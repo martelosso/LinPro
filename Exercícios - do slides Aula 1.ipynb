{
 "cells": [
  {
   "cell_type": "markdown",
   "metadata": {},
   "source": [
    "Exercício 1: (feito um análogo na lista )"
   ]
  },
  {
   "cell_type": "code",
   "execution_count": 4,
   "metadata": {},
   "outputs": [
    {
     "name": "stdout",
     "output_type": "stream",
     "text": [
      "Seu IMC é de 25.7\n"
     ]
    }
   ],
   "source": [
    "altura = float(input(\"Digite sua altura em metros:\"))\n",
    "peso = float(input(\"Digite seu peso em kg:\"))\n",
    "\n",
    "print(f\"Seu IMC é de {round(peso/altura**2, 1)}\")"
   ]
  },
  {
   "cell_type": "markdown",
   "metadata": {},
   "source": [
    "Exercício 2:"
   ]
  },
  {
   "cell_type": "code",
   "execution_count": 6,
   "metadata": {},
   "outputs": [
    {
     "name": "stdout",
     "output_type": "stream",
     "text": [
      "O perímetro do círculo é de 75.36\n"
     ]
    }
   ],
   "source": [
    "raio = float(input(\"Digite o raio do círculo em cm:\"))\n",
    "\n",
    "print(f\"O perímetro do círculo é de {3.14*2*raio}\")\n",
    "\n",
    "print(\"teste\")"
   ]
  },
  {
   "cell_type": "markdown",
   "metadata": {},
   "source": [
    "Exercício 3:"
   ]
  },
  {
   "cell_type": "code",
   "execution_count": 23,
   "metadata": {},
   "outputs": [
    {
     "name": "stdout",
     "output_type": "stream",
     "text": [
      "A equação não tem solução nos números reais (raiz complexa)\n"
     ]
    }
   ],
   "source": [
    "import math\n",
    "\n",
    "a = float(input(\"Digite o coeficiente a da equação de segundo grau:\"))\n",
    "b = float(input(\"Digite o coeficiente b da equação de segundo grau:\"))\n",
    "c = float(input(\"Digite o coeficiente c da equação de segundo grau:\"))\n",
    "\n",
    "delta = (b**2) - (4*a*c)\n",
    "\n",
    "if delta < 0:\n",
    "    print(\"A equação não tem solução nos números reais (raiz complexa)\")\n",
    "else:\n",
    "    x1 = (-b + (delta)**(1/2))/2*a\n",
    "    x2 = (-b - (delta)**(1/2))/2*a\n",
    "    if x1 == x2:\n",
    "        print(f\"A raiz é única e tem solução x = {x1}\")\n",
    "    else:\n",
    "        print(f\"A equação tem raízes x1 = {x1} e x2 = {x2}\")"
   ]
  },
  {
   "cell_type": "markdown",
   "metadata": {},
   "source": [
    "Exercício 4:"
   ]
  },
  {
   "cell_type": "code",
   "execution_count": 27,
   "metadata": {},
   "outputs": [
    {
     "name": "stdout",
     "output_type": "stream",
     "text": [
      "O lado: b = 9.0\n",
      "A hipotenusa é de h = 11.40175425099138\n"
     ]
    }
   ],
   "source": [
    "a = float(input(\"Digite o valor do lado a do retângulo: \"))\n",
    "area = float(input(\"Digite o valor da área do retângulo: \"))\n",
    "\n",
    "b = area/a\n",
    "print(f\"O lado: b = {b}\")\n",
    "\n",
    "def hipotenusa(a, b):\n",
    "    h = (a**2 + b**2)**(1/2)\n",
    "    print(f\"A hipotenusa é de h = {h}\")\n",
    "\n",
    "hipotenusa(a, b)"
   ]
  }
 ],
 "metadata": {
  "kernelspec": {
   "display_name": "Python 3.10.3 64-bit",
   "language": "python",
   "name": "python3"
  },
  "language_info": {
   "codemirror_mode": {
    "name": "ipython",
    "version": 3
   },
   "file_extension": ".py",
   "mimetype": "text/x-python",
   "name": "python",
   "nbconvert_exporter": "python",
   "pygments_lexer": "ipython3",
   "version": "3.10.3"
  },
  "orig_nbformat": 4,
  "vscode": {
   "interpreter": {
    "hash": "26de051ba29f2982a8de78e945f0abaf191376122a1563185a90213a26c5da77"
   }
  }
 },
 "nbformat": 4,
 "nbformat_minor": 2
}
