{
 "cells": [
  {
   "cell_type": "markdown",
   "metadata": {},
   "source": [
    "Escreva um programa que calcule o preço de um ingresso dada as seguintes condições:\n",
    "* O valor-base é de R$ 10\n",
    "* Menores de 5 anos não pagam\n",
    "* Crianças entre 5 e 12 anos pagam meia entrada\n",
    "* Adolescentes entre 13 e 17 anos têm 20% de desconto\n",
    "* Adultos entre 18 e 70 pagam o valor-base\n",
    "* Maiores de 70 anos não pagam\n",
    "\n",
    "O programa deve executar e, ao mostrar o preço, retornar ao início e perguntar se o usuário quer saber o preço de um ingresso ou sair. Para sair, o usuário deve digitar *\"q\"*."
   ]
  },
  {
   "cell_type": "code",
   "execution_count": 9,
   "metadata": {},
   "outputs": [],
   "source": [
    "valor_base = 10\n",
    "continuar = \"\"\n",
    "\n",
    "while (continuar != \"q\"):\n",
    "\tidade = float(input(\"Digite a sua idade:\"))\n",
    "\tif idade < 5:\n",
    "\t\tpreco = 0\n",
    "\telif idade <= 12:\n",
    "\t\tpreco = .5 * valor_base\n",
    "\telif idade <= 17:\n",
    "\t\tpreco = .8 * valor_base\n",
    "\telif idade < 70:\n",
    "\t\tpreco = valor_base\n",
    "\telse:\n",
    "\t\tpreco = 0\n",
    "\tcontinuar = input(f\"O valor de sua entrada é de R$ {preco}. Se quiser saber o preço de outro ingresso digite \\\"s\\\", caso queira sair da aplicação digite \\\"q\\\"\")\n",
    "\n"
   ]
  }
 ],
 "metadata": {
  "kernelspec": {
   "display_name": "Python 3.10.3 64-bit",
   "language": "python",
   "name": "python3"
  },
  "language_info": {
   "codemirror_mode": {
    "name": "ipython",
    "version": 3
   },
   "file_extension": ".py",
   "mimetype": "text/x-python",
   "name": "python",
   "nbconvert_exporter": "python",
   "pygments_lexer": "ipython3",
   "version": "3.10.3"
  },
  "orig_nbformat": 4,
  "vscode": {
   "interpreter": {
    "hash": "26de051ba29f2982a8de78e945f0abaf191376122a1563185a90213a26c5da77"
   }
  }
 },
 "nbformat": 4,
 "nbformat_minor": 2
}
