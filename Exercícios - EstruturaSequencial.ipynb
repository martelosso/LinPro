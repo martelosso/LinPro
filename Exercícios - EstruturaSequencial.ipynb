{
 "cells": [
  {
   "cell_type": "markdown",
   "metadata": {},
   "source": [
    "### Lista de exercícios Linguagem de programação - Aula 1 - Estrutura Sequencial"
   ]
  },
  {
   "cell_type": "markdown",
   "metadata": {},
   "source": [
    "Exercício 1: Faça um Programa que mostre a mensagem \"Alo mundo\" na tela."
   ]
  },
  {
   "cell_type": "code",
   "execution_count": 2,
   "metadata": {},
   "outputs": [
    {
     "name": "stdout",
     "output_type": "stream",
     "text": [
      "Hello world\n"
     ]
    }
   ],
   "source": [
    "print(\"Hello world\")"
   ]
  },
  {
   "cell_type": "markdown",
   "metadata": {},
   "source": [
    "Exercício 2: Faça um Programa que peça um número e então mostre a mensagem O número informado foi [número]."
   ]
  },
  {
   "cell_type": "code",
   "execution_count": 2,
   "metadata": {},
   "outputs": [
    {
     "name": "stdout",
     "output_type": "stream",
     "text": [
      "O número digitado foi: 5\n"
     ]
    }
   ],
   "source": [
    "numero = input(\"Digite um número: \")\n",
    "print(\"O número digitado foi:\", numero)"
   ]
  },
  {
   "cell_type": "markdown",
   "metadata": {},
   "source": [
    "Exercício 3: Faça um Programa que peça dois números e imprima a soma."
   ]
  },
  {
   "cell_type": "code",
   "execution_count": 4,
   "metadata": {},
   "outputs": [
    {
     "name": "stdout",
     "output_type": "stream",
     "text": [
      "A soma dos números é: 4\n"
     ]
    }
   ],
   "source": [
    "num_1 = int(input(\"Digite o primeiro número:\"))\n",
    "num_2 = int(input(\"Digite o segundo número:\"))\n",
    "print(\"A soma dos números é:\", num_1 + num_2)"
   ]
  },
  {
   "cell_type": "markdown",
   "metadata": {},
   "source": [
    "Exercício 4: Faça um Programa que peça as 4 notas bimestrais e mostre a média."
   ]
  },
  {
   "cell_type": "code",
   "execution_count": 9,
   "metadata": {},
   "outputs": [
    {
     "name": "stdout",
     "output_type": "stream",
     "text": [
      "A sua nota média é de: 7.0\n"
     ]
    }
   ],
   "source": [
    "message = \"Digite a nota de ordem:\"\n",
    "nota_1 = int(input(message + \"1\"))\n",
    "nota_2 = int(input(message + \"2\"))\n",
    "nota_3 = int(input(message + \"3\"))\n",
    "media = (nota_1 + nota_2 + nota_3)/3\n",
    "print(\"A sua nota média é de:\",  round(media, 1))"
   ]
  },
  {
   "cell_type": "markdown",
   "metadata": {},
   "source": [
    "Exercício 5: Faça um Programa que converta metros para centímetros."
   ]
  },
  {
   "cell_type": "code",
   "execution_count": 103,
   "metadata": {},
   "outputs": [
    {
     "name": "stdout",
     "output_type": "stream",
     "text": [
      "Convertendo 12 metros para centímetros temos 1200 centímetros.\n"
     ]
    }
   ],
   "source": [
    "med_metr = int(input(\"Digite uma medida em metros:\"))\n",
    "print(f\"Convertendo {med_metr} metros para centímetros temos\", med_metr*100, \"centímetros.\")"
   ]
  },
  {
   "cell_type": "markdown",
   "metadata": {},
   "source": [
    "Exercício 6: Faça um Programa que peça o raio de um círculo, calcule e mostre sua área."
   ]
  },
  {
   "cell_type": "code",
   "execution_count": 12,
   "metadata": {},
   "outputs": [
    {
     "name": "stdout",
     "output_type": "stream",
     "text": [
      "O círculo em questão tem 78.54 de área\n"
     ]
    }
   ],
   "source": [
    "raio = int(input(\"Digite o raio de um círculo em:\"))\n",
    "print(\"O círculo em questão tem\", round(3.1416*raio**2, 2), \"de área\")"
   ]
  },
  {
   "cell_type": "markdown",
   "metadata": {},
   "source": [
    "Exercício 7: Faça um Programa que calcule a área de um quadrado, em seguida mostre o dobro desta área para o usuário."
   ]
  },
  {
   "cell_type": "markdown",
   "metadata": {},
   "source": [
    "Exercício 8: Faça um Programa que pergunte quanto você ganha por hora e o número de horas trabalhadas no mês. Calcule e mostre o total do seu salário no referido mês."
   ]
  },
  {
   "cell_type": "code",
   "execution_count": 13,
   "metadata": {},
   "outputs": [
    {
     "name": "stdout",
     "output_type": "stream",
     "text": [
      "Você ganha R$ 5000 por mês.\n"
     ]
    }
   ],
   "source": [
    "h_valor = int(input(\"Digite o quanto, em reais, você ganha por hora de trabalho:\"))\n",
    "h_trblh = int(input(\"Digite quantas horas você trabalha em um mês:\"))\n",
    "print(\"Você ganha R$\", round(h_valor*h_trblh, 2), \"por mês.\")"
   ]
  },
  {
   "cell_type": "markdown",
   "metadata": {},
   "source": [
    "Exercício 10: Faça um Programa que peça a temperatura em graus Celsius, transforme e mostre em graus Fahrenheit."
   ]
  },
  {
   "cell_type": "code",
   "execution_count": 14,
   "metadata": {},
   "outputs": [
    {
     "name": "stdout",
     "output_type": "stream",
     "text": [
      "A temperatura agora em Farenheit é de  89.6 °F\n"
     ]
    }
   ],
   "source": [
    "#O contrário faz mais sentido:\n",
    "\n",
    "c_temp = float(input(\"Digite a temperatura atual em graus celsius:\"))\n",
    "\n",
    "f_temp = 32 + (c_temp*9/5)\n",
    "\n",
    "print(\"A temperatura agora em Farenheit é de \", f_temp, \"°F\")"
   ]
  },
  {
   "cell_type": "markdown",
   "metadata": {},
   "source": [
    "Exercício 11: Faça um Programa que peça 2 números inteiros e um número real. Calcule e mostre:\n",
    "1. O produto do dobro do primeiro com metade do segundo.\n",
    "2. A soma do triplo do primeiro com o terceiro.\n",
    "3. O terceiro elevado ao cubo.\n"
   ]
  },
  {
   "cell_type": "code",
   "execution_count": 104,
   "metadata": {},
   "outputs": [
    {
     "name": "stdout",
     "output_type": "stream",
     "text": [
      "Os números são: 2, 3 e 2.0\n",
      "1. 5.5\n",
      "2. 8.0\n",
      "3. 8.0\n"
     ]
    }
   ],
   "source": [
    "int_1 = int(input(\"Digite o primeiro número inteiro:\"))\n",
    "int_2 = int(input(\"Agora digite o segundo número iteiro:\"))\n",
    "float_1 = float(input(\"Agora digite um número real:\"))\n",
    "\n",
    "print(f\"Os números são: {int_1}, {int_2} e {float_1}\")\n",
    "print(\"1.\", 2*int_1 + 1/2*int_2)\n",
    "print(\"2.\", 3*int_1 + float_1)\n",
    "print(\"3.\", float_1**3)"
   ]
  },
  {
   "cell_type": "markdown",
   "metadata": {},
   "source": [
    "Exercício 13: Tendo como dado de entrada a altura (h) de uma pessoa, construa um algoritmo que calcule seu peso ideal, utilizando as seguintes fórmulas:\n",
    "1. Para homens: (72.7*h) - 58\n",
    "2. Para mulheres: (62.1*h) - 44.7\n"
   ]
  },
  {
   "cell_type": "code",
   "execution_count": 37,
   "metadata": {},
   "outputs": [
    {
     "name": "stdout",
     "output_type": "stream",
     "text": [
      "Seu peso ideal é de 76.5 kg\n"
     ]
    }
   ],
   "source": [
    "h = float(input(\"Digite sua altura em metros:\"))\n",
    "sexo = int(input(\"Digite 1 se for homem e 0 se for mulher:\"))\n",
    "\n",
    "decision = sexo * (72.7*h - 58) + (-1)*(sexo - 1)*(62.1*h - 44.7)\n",
    "\n",
    "print(\"Seu peso ideal é de\", round(decision, 2), \"kg\")"
   ]
  },
  {
   "cell_type": "code",
   "execution_count": 36,
   "metadata": {},
   "outputs": [
    {
     "name": "stdout",
     "output_type": "stream",
     "text": [
      "Seu peso ideal é: 70.185 kg\n"
     ]
    }
   ],
   "source": [
    "#Outra forma\n",
    "\n",
    "h = float(input(\"Digite sua altura em metros:\"))\n",
    "sexo = int(input(\"Digite 1 se for homem e 0 se for mulher:\"))\n",
    "\n",
    "if sexo == 1:\n",
    "    print(\"Seu peso ideal é:\", 72.7*h - 58, \"kg\")\n",
    "elif sexo == 0:\n",
    "    print(\"Seu peso ideal é:\", 62.1*h - 44.7, \"kg\")\n",
    "else:\n",
    "    print(\"Você entrou com um input incorreto. Tá de sacanagem...\")"
   ]
  },
  {
   "cell_type": "markdown",
   "metadata": {},
   "source": [
    "Exercício 14: João Papo-de-Pescador, homem de bem, comprou um microcomputador para controlar o rendimento diário de seu trabalho. Toda vez que ele traz um peso de peixes maior que o estabelecido pelo regulamento de pesca do estado de São Paulo (50 quilos) deve pagar uma multa de R$ 4,00 por quilo excedente. João precisa que você faça um programa que leia a variável peso (peso de peixes) e calcule o excesso. Gravar na variável excesso a quantidade de quilos além do limite e na variável multa o valor da multa que João deverá pagar. Imprima os dados do programa com as mensagens adequadas."
   ]
  },
  {
   "cell_type": "code",
   "execution_count": 46,
   "metadata": {},
   "outputs": [
    {
     "name": "stdout",
     "output_type": "stream",
     "text": [
      "Você pescou 55.5kg, excedendo o limite legal de 50kg. Você deve pagar R$ 22.0, referentes aos 5.5kg que ultrapassaram o limite.\n"
     ]
    }
   ],
   "source": [
    "peso = float(input(\"Digite quantos kg de peixe foram pescados:\"))\n",
    "excss = peso - 50\n",
    "if excss < 0:\n",
    "    print(\"Está dentro do limite legal.\")\n",
    "else:\n",
    "    mult = excss * 4\n",
    "    print(f\"Você pescou {peso}kg, excedendo o limite legal de 50kg. Você deve pagar R$\", f\"{round(mult, 2)}, referentes aos {excss}kg que ultrapassaram o limite.\")"
   ]
  },
  {
   "cell_type": "markdown",
   "metadata": {},
   "source": [
    "Exercício 15: Faça um Programa que pergunte quanto você ganha por hora e o número de horas trabalhadas no mês. Calcule e mostre o total do seu salário no referido mês, sabendo-se que são descontados 11% para o Imposto de Renda, 8% para o INSS e 5% para o sindicato, faça um programa que nos dê:\n",
    "* Salário bruto.\n",
    "* Quanto pagou ao INSS.\n",
    "* Quanto pagou ao sindicato.\n",
    "* O salário líquido.\n",
    "* Calcule os descontos e o salário líquido, conforme a tabela abaixo:\n",
    "\n",
    "> \\+ Salário Bruto : R$  \n",
    "> \\- IR (11%) : R$  \n",
    "> \\- INSS (8%) : R$  \n",
    "> \\- Sindicato ( 5%) : R$  \n",
    "> = Salário Liquido : R$  "
   ]
  },
  {
   "cell_type": "code",
   "execution_count": 49,
   "metadata": {},
   "outputs": [
    {
     "name": "stdout",
     "output_type": "stream",
     "text": [
      "Seu salário bruto é de R$ 8000.\n",
      "Seu salário líquido é de R$ 6080.\n",
      "O cálculo é feito da seguinte forma:\n",
      "+ Salário bruto: R$ 8000\n",
      "- Imposto de renda (11%): R$ 880.0\n",
      "- INSS (8%): R$ 640.0 \n",
      "- Sindicato (5%): R$ 400.0 \n",
      "= Salário líquido: R$ 6080.0\n"
     ]
    }
   ],
   "source": [
    "h_valor = int(input(\"Digite o quanto, em reais, você ganha por hora de trabalho:\"))\n",
    "h_trblh = int(input(\"Digite quantas horas você trabalha em um mês:\"))\n",
    "s_bruto = h_valor*h_trblh\n",
    "ir = .11*s_bruto\n",
    "inss = .08*s_bruto\n",
    "sind = .05*s_bruto\n",
    "s_liq = s_bruto - ir - inss - sind\n",
    "\n",
    "print(\"Seu salário bruto é de R$\", f\"{round(s_bruto)}.\")\n",
    "print(\"Seu salário líquido é de R$\", f\"{round(s_liq)}.\")\n",
    "\n",
    "print(\"O cálculo é feito da seguinte forma:\")\n",
    "\n",
    "print(\n",
    "    f\"+ Salário bruto: R$ {s_bruto}\\n- Imposto de renda (11%): R$ {ir}\\n- INSS (8%): R$ {inss} \\n- Sindicato (5%): R$ {sind} \\n= Salário líquido: R$ {s_liq}\"\n",
    ")\n",
    "\n",
    "\n"
   ]
  },
  {
   "cell_type": "markdown",
   "metadata": {},
   "source": [
    "Exercício 16: Faça um programa para uma loja de tintas. O programa deverá pedir o tamanho em metros quadrados da área a ser pintada. Considere que a cobertura da tinta é de 1 litro para cada 3 metros quadrados e que a tinta é vendida em latas de 18 litros, que custam R$ 80,00. Informe ao usuário a quantidades de latas de tinta a serem compradas e o preço total."
   ]
  },
  {
   "cell_type": "code",
   "execution_count": 57,
   "metadata": {},
   "outputs": [
    {
     "name": "stdout",
     "output_type": "stream",
     "text": [
      "Serão utilizadas 3 latas no valor total de R$ 240. Sobrará 0.56 litros de tinta na última lata usada.\n"
     ]
    }
   ],
   "source": [
    "import math\n",
    "\n",
    "area = float(input(\"Digite o tamanho em metros quadrados da área a ser pintada:\"))\n",
    "\n",
    "litros_tinta = area/3\n",
    "n_latas = litros_tinta/18\n",
    "n_latas_int = math.ceil(n_latas)\n",
    "v_total = n_latas_int * 80\n",
    "print(f\"Serão utilizadas {n_latas_int} latas no valor total de R$ {round(v_total, 2)}. Sobrará {round(n_latas_int - n_latas, 2)} litros de tinta na última lata usada.\")"
   ]
  },
  {
   "cell_type": "markdown",
   "metadata": {},
   "source": [
    "Exercício 17: Faça um Programa para uma loja de tintas. O programa deverá pedir o tamanho em metros quadrados da área a ser pintada. Considere que a cobertura da tinta é de 1 litro para cada 6 metros quadrados e que a tinta é vendida em latas de 18 litros, que custam R$ 80,00 ou em galões de 3,6 litros, que custam R$ 25,00.\n",
    "  \n",
    "Informe ao usuário as quantidades de tinta a serem compradas e os respectivos preços em 3 situações:\n",
    "* Comprar apenas latas de 18 litros;\n",
    "* Comprar apenas galões de 3,6 litros;\n",
    "* Misturar latas e galões, de forma que o desperdício de tinta seja menor. Acrescente 10% de folga e sempre arredonde os valores para cima, isto é, considere latas cheias."
   ]
  },
  {
   "cell_type": "code",
   "execution_count": 74,
   "metadata": {},
   "outputs": [
    {
     "name": "stdout",
     "output_type": "stream",
     "text": [
      "Preço/litro da lata (80L): 4.44\n",
      "Preço/litro do galao (3.6L): 6.94\n",
      "O galão é 156% mais caro que a lata.\n"
     ]
    }
   ],
   "source": [
    "pl_lata = 80/18\n",
    "pl_galao = 25/3.6\n",
    "\n",
    "print(f\"Preço/litro da lata (80L): {round(pl_lata, 2)}\\nPreço/litro do galao (3.6L): {round(pl_galao, 2)}\")\n",
    "\n",
    "prop_l_g = pl_galao/pl_lata\n",
    "\n",
    "\n",
    "print(f\"O galão é {round(100*prop_l_g)}% mais caro que a lata.\")"
   ]
  },
  {
   "cell_type": "code",
   "execution_count": 97,
   "metadata": {},
   "outputs": [
    {
     "name": "stdout",
     "output_type": "stream",
     "text": [
      "Para pintar 120.0 metros quadrados vamos precisar de 20.0 L de tinta.\n",
      "Se comprarmos apenas latas, precisaríamos de 2 (1.1) unidades, gastando R$ 160. Neste caso é desperdiçado 16.0 litros de tinta.\n",
      "Se comprarmos apenas galões, precisaríamos de 6 (5.6) unidades, gastando R$ 150. Neste caso é desperdiçado 1.6 litros de tinta.\n",
      "Afim de minimizar o desperdício, para pintar 120.0 metros quadrados serão necessários 1 de latas e 1 galões de tinta, gastando R$ 105.\n",
      "Assim desperdiçamos apenas 1.6 litros de tinta, minizando desperdício de tinta e dinheiro.\n"
     ]
    }
   ],
   "source": [
    "import math\n",
    "\n",
    "area = float(input(\"Digite o tamanho em metros quadrados da área a ser pintada:\"))\n",
    "\n",
    "l_tinta = area/6\n",
    "\n",
    "n_latas = l_tinta/18\n",
    "n_galoes = l_tinta/3.6\n",
    "\n",
    "n_latas_int = math.ceil(n_latas)\n",
    "n_galoes_int = math.ceil(n_galoes)\n",
    "\n",
    "n_latas_ideal = math.floor(n_latas)\n",
    "l_restante = l_tinta - n_latas_ideal*18\n",
    "\n",
    "n_galoes_ideal = l_restante/3.6\n",
    "n_galoes_final = math.ceil(n_galoes_ideal)\n",
    "desperdicio = n_latas_ideal*18 + n_galoes_final*3.6 - l_tinta\n",
    "\n",
    "print(f\"Para pintar {area} metros quadrados vamos precisar de {l_tinta} L de tinta.\")\n",
    "print(f\"Se comprarmos apenas latas, precisaríamos de {n_latas_int} ({round(n_latas, 1)}) unidades, gastando R$ {n_latas_int*80}. Neste caso é desperdiçado {round((18*n_latas_int - l_tinta), 2)} litros de tinta.\")\n",
    "print(f\"Se comprarmos apenas galões, precisaríamos de {n_galoes_int} ({round(n_galoes, 1)}) unidades, gastando R$ {n_galoes_int*25}. Neste caso é desperdiçado {round((3.6*n_galoes_int - l_tinta), 2)} litros de tinta.\")\n",
    "print(f\"Afim de minimizar o desperdício, para pintar {area} metros quadrados serão necessários {n_latas_ideal} de latas e {n_galoes_final} galões de tinta, gastando R$ {round(n_latas_ideal*80 + n_galoes_final*25)}.\")\n",
    "print(f\"Assim desperdiçamos apenas {round(desperdicio, 2)} litros de tinta, minizando desperdício de tinta e dinheiro.\")"
   ]
  },
  {
   "cell_type": "markdown",
   "metadata": {},
   "source": [
    "Exercício 18: Faça um programa que peça o tamanho de um arquivo para download (em MB) e a velocidade de um link de Internet (em Mbps), calcule e informe o tempo aproximado de download do arquivo usando este link (em minutos)."
   ]
  },
  {
   "cell_type": "code",
   "execution_count": 101,
   "metadata": {},
   "outputs": [
    {
     "name": "stdout",
     "output_type": "stream",
     "text": [
      "Seu download vai demorar 2 minutos e 47 segundos para ser concluído.\n"
     ]
    }
   ],
   "source": [
    "import math\n",
    "\n",
    "dwnld_size = float(input(\"Digite o tamanho do download em MB:\"))\n",
    "dwnld_speed = float(input(\"Digite a velocidade de download em Mbps:\"))\n",
    "\n",
    "dwnld_time_s = dwnld_size/dwnld_speed\n",
    "dwnld_time_m = dwnld_time_s/60\n",
    "\n",
    "minutes_left = math.floor(dwnld_time_m)\n",
    "seconds_left = (dwnld_time_m - minutes_left)*60\n",
    "\n",
    "print(f\"Seu download vai demorar {minutes_left} minutos e {round(seconds_left)} segundos para ser concluído.\")"
   ]
  },
  {
   "cell_type": "code",
   "execution_count": 113,
   "metadata": {},
   "outputs": [
    {
     "name": "stdout",
     "output_type": "stream",
     "text": [
      "12\n",
      "22\n"
     ]
    }
   ],
   "source": [
    "variavel1 = 10\n",
    "variavel1 = variavel1 + 2\n",
    "variavel2 = variavel1 - 1\n",
    "variavel2 = variavel1 + 10\n",
    "variavel1 + 10\n",
    "variavel2 + 1\n",
    "\n",
    "print(variavel1)\n",
    "print(variavel2)"
   ]
  }
 ],
 "metadata": {
  "kernelspec": {
   "display_name": "Python 3.10.3 64-bit",
   "language": "python",
   "name": "python3"
  },
  "language_info": {
   "codemirror_mode": {
    "name": "ipython",
    "version": 3
   },
   "file_extension": ".py",
   "mimetype": "text/x-python",
   "name": "python",
   "nbconvert_exporter": "python",
   "pygments_lexer": "ipython3",
   "version": "3.10.3"
  },
  "orig_nbformat": 4,
  "vscode": {
   "interpreter": {
    "hash": "26de051ba29f2982a8de78e945f0abaf191376122a1563185a90213a26c5da77"
   }
  }
 },
 "nbformat": 4,
 "nbformat_minor": 2
}
