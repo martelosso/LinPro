{
 "cells": [
  {
   "cell_type": "markdown",
   "metadata": {},
   "source": [
    "### Lista de exercícios Linguagem de programação - Aula 1 - Exercícios com string"
   ]
  },
  {
   "cell_type": "markdown",
   "metadata": {},
   "source": [
    "Exercício 1: *Tamanho de strings*. Faça um programa que leia 2 strings e informe o conteúdo delas seguido do seu comprimento. Informe também se as duas strings possuem o mesmo comprimento e são iguais ou diferentes no conteúdo.\n"
   ]
  },
  {
   "cell_type": "code",
   "execution_count": 6,
   "metadata": {},
   "outputs": [
    {
     "name": "stdout",
     "output_type": "stream",
     "text": [
      "Primeira string: \"Brasil Hexa 2016\". Tem tamanho 16\n",
      "Primeira string: \"Brasil! Hexa 2016!\". Tem tamanho 18\n",
      "A diferença em tamnho entre as strings 1 e 2 é de 2 caracteres.\n"
     ]
    }
   ],
   "source": [
    "string1 = \"Brasil Hexa 2016\"\n",
    "string2 = \"Brasil! Hexa 2016!\"\n",
    "\n",
    "print(f\"Primeira string: \\\"{string1}\\\".\", f\"Tem tamanho {len(string1)}\")\n",
    "print(f\"Primeira string: \\\"{string2}\\\".\", f\"Tem tamanho {len(string2)}\")\n",
    "print(f\"A diferença em tamnho entre as strings 1 e 2 é de {abs(len(string1) - len(string2))} caracteres.\")"
   ]
  },
  {
   "cell_type": "markdown",
   "metadata": {},
   "source": [
    "Exercício 2: Nome ao contrário em maiúsculas. Faça um programa que permita ao usuário digitar o seu nome e em seguida mostre o nome do usuário de trás para frente utilizando somente letras maiúsculas. Dica: lembre−se que ao informar o nome o usuário pode digitar letras maiúsculas ou minúsculas."
   ]
  },
  {
   "cell_type": "code",
   "execution_count": 12,
   "metadata": {},
   "outputs": [
    {
     "name": "stdout",
     "output_type": "stream",
     "text": [
      "LEIRBAG\n"
     ]
    }
   ],
   "source": [
    "nome = input(\"Digite seu nome:\")\n",
    "\n",
    "nome_revirado = nome[::-1].upper()\n",
    "\n",
    "print(nome_revirado)"
   ]
  },
  {
   "cell_type": "markdown",
   "metadata": {},
   "source": [
    "Exercício 3:"
   ]
  },
  {
   "cell_type": "code",
   "execution_count": 15,
   "metadata": {},
   "outputs": [
    {
     "name": "stdout",
     "output_type": "stream",
     "text": [
      "s\n",
      "a\n",
      "c\n",
      "o\n"
     ]
    }
   ],
   "source": [
    "digitado = input(\"Digita uma string:\")\n",
    "for letra in digitado:\n",
    "    print(letra)\n"
   ]
  },
  {
   "cell_type": "markdown",
   "metadata": {},
   "source": [
    "Exercício 4:"
   ]
  },
  {
   "cell_type": "code",
   "execution_count": 18,
   "metadata": {},
   "outputs": [
    {
     "name": "stdout",
     "output_type": "stream",
     "text": [
      "\n",
      "t\n",
      "ti\n",
      "til\n",
      "tila\n",
      "tilap\n",
      "tilapi\n"
     ]
    }
   ],
   "source": [
    "digitado = input(\"Digita uma string:\")\n",
    "\n",
    "for x in range(0, len(digitado)):\n",
    "    print(digitado[0:x])"
   ]
  },
  {
   "cell_type": "markdown",
   "metadata": {},
   "source": [
    "Exercício 5:"
   ]
  },
  {
   "cell_type": "code",
   "execution_count": 19,
   "metadata": {},
   "outputs": [
    {
     "name": "stdout",
     "output_type": "stream",
     "text": [
      "cuuuu\n",
      "cuuu\n",
      "cuu\n",
      "cu\n",
      "c\n"
     ]
    }
   ],
   "source": [
    "digitado = input(\"Digita uma string:\")\n",
    "n = len(digitado)\n",
    "\n",
    "for x in range(0, n):\n",
    "    print(digitado[0:(n - x)])"
   ]
  },
  {
   "cell_type": "markdown",
   "metadata": {},
   "source": [
    "Exercício 6:"
   ]
  },
  {
   "cell_type": "code",
   "execution_count": 25,
   "metadata": {},
   "outputs": [
    {
     "name": "stdout",
     "output_type": "stream",
     "text": [
      "Você nasceu no dia 20 de Junho de 1995\n"
     ]
    }
   ],
   "source": [
    "data = input(\"Digite a data de seu nascimento no format dd/mm/aaaa\")\n",
    "\n",
    "mes_dict = {\n",
    "    1:\"Janeiro\",\n",
    "    2:\"Fevereiro\",\n",
    "    3:\"Março\",\n",
    "    4:\"Abril\",\n",
    "    5:\"Maio\",\n",
    "    6:\"Junho\",\n",
    "    7:\"Julho\",\n",
    "    8:\"Agosto\",\n",
    "    9:\"Setembro\",\n",
    "    10:\"Outubro\",\n",
    "    11:\"Novembro\",\n",
    "    12:\"Dezembro\"\n",
    "}\n",
    "\n",
    "print(f\"Você nasceu no dia {data[0:2]} de {mes_dict[int(data[3:5])]} de {data[6:]}\")"
   ]
  },
  {
   "cell_type": "markdown",
   "metadata": {},
   "source": [
    "Exercício 7:"
   ]
  },
  {
   "cell_type": "code",
   "execution_count": null,
   "metadata": {},
   "outputs": [],
   "source": [
    "texto = input(\"Digite alguma coisa:\")\n",
    "\n"
   ]
  }
 ],
 "metadata": {
  "kernelspec": {
   "display_name": "Python 3.10.3 64-bit",
   "language": "python",
   "name": "python3"
  },
  "language_info": {
   "codemirror_mode": {
    "name": "ipython",
    "version": 3
   },
   "file_extension": ".py",
   "mimetype": "text/x-python",
   "name": "python",
   "nbconvert_exporter": "python",
   "pygments_lexer": "ipython3",
   "version": "3.10.3"
  },
  "orig_nbformat": 4,
  "vscode": {
   "interpreter": {
    "hash": "26de051ba29f2982a8de78e945f0abaf191376122a1563185a90213a26c5da77"
   }
  }
 },
 "nbformat": 4,
 "nbformat_minor": 2
}
